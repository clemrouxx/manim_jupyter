{
 "cells": [
  {
   "cell_type": "code",
   "execution_count": 1,
   "id": "807d3ece-f572-406b-8b5c-98d7552fcfc6",
   "metadata": {
    "tags": []
   },
   "outputs": [
    {
     "data": {
      "text/html": [
       "<pre style=\"white-space:pre;overflow-x:auto;line-height:normal;font-family:Menlo,'DejaVu Sans Mono',consolas,'Courier New',monospace\">Manim Community <span style=\"color: #008000; text-decoration-color: #008000\">v0.18.0</span>\n",
       "\n",
       "</pre>\n"
      ],
      "text/plain": [
       "Manim Community \u001b[32mv0.\u001b[0m\u001b[32m18.0\u001b[0m\n",
       "\n"
      ]
     },
     "metadata": {},
     "output_type": "display_data"
    }
   ],
   "source": [
    "from manim import *"
   ]
  },
  {
   "cell_type": "code",
   "execution_count": 7,
   "id": "534270f2-b790-4feb-9249-d6d82cdc90d7",
   "metadata": {
    "tags": []
   },
   "outputs": [
    {
     "name": "stderr",
     "output_type": "stream",
     "text": [
      "                                                                                               \r"
     ]
    },
    {
     "data": {
      "text/html": [
       "<video src=\"media/jupyter/PlotExample@2023-12-25@09-56-31.mp4\" controls autoplay loop style=\"max-width: 60%;\"  >\n",
       "      Your browser does not support the <code>video</code> element.\n",
       "    </video>"
      ],
      "text/plain": [
       "<IPython.core.display.Video object>"
      ]
     },
     "metadata": {},
     "output_type": "display_data"
    }
   ],
   "source": [
    "%%manim -ql -v WARNING PlotExample\n",
    "\n",
    "class PlotExample(MovingCameraScene):\n",
    "    def construct(self):\n",
    "        plot_axes = Axes(\n",
    "            x_range=[0, 600, 5000],\n",
    "            y_range=[-1, 1, 1],\n",
    "            x_length=9,\n",
    "            y_length=5,\n",
    "            tips=False,\n",
    "        )\n",
    "\n",
    "        y_label = plot_axes.get_y_axis_label(Tex(\"Amplitude\"), edge=LEFT, direction=LEFT, buff=0.4).rotate(PI/2)\n",
    "        x_label = plot_axes.get_x_axis_label(Tex(\"$f$ (Hz)\"),edge=RIGHT,direction=RIGHT)\n",
    "        plot_labels = VGroup(x_label, y_label)\n",
    "\n",
    "        bottom = VGroup()\n",
    "        fA = 120\n",
    "        for i in range(1,5):\n",
    "            bottom += plot_axes.get_vertical_line(plot_axes.c2p(i*fA, -1/i, 0), color=BLUE,line_func=Line)\n",
    "        bottom += Tex(\"$f_A$\",color=BLUE).next_to(bottom[0],DOWN,buff=0.2).scale(0.8)\n",
    "        bottom += Tex(\"$4f_A$\",color=BLUE).next_to(bottom[3],DOWN,buff=0.2).scale(0.8)\n",
    "            \n",
    "        top = VGroup()\n",
    "        fB = ValueTracker(160)\n",
    "        for i in range(1,4):\n",
    "            top += plot_axes.get_vertical_line(plot_axes.c2p(i*fB.get_value(), 1/i, 0), color=YELLOW,line_func=Line)\n",
    "        top[0].add_updater(lambda l:l.set_x(plot_axes.c2p(1*fB.get_value(), 0, 0)[0]))\n",
    "        top[1].add_updater(lambda l:l.set_x(plot_axes.c2p(2*fB.get_value(), 0, 0)[0]))\n",
    "        top[2].add_updater(lambda l:l.set_x(plot_axes.c2p(3*fB.get_value(), 0, 0)[0]))\n",
    "        top += Tex(\"$f_B$\",color=YELLOW).next_to(top[0],UP,buff=0.2).scale(0.8)\n",
    "        top[-1].add_updater(lambda l:l.set_x(plot_axes.c2p(1*fB.get_value(), 0, 0)[0]))\n",
    "        top += Tex(\"$3f_B$\",color=YELLOW).next_to(top[2],UP,buff=0.2).scale(0.8)\n",
    "        top[-1].add_updater(lambda l:l.set_x(plot_axes.c2p(3*fB.get_value(), 0, 0)[0]))\n",
    "        \n",
    "        next_fB_value = 165\n",
    "        \n",
    "        darrow = DoubleArrow(start=plot_axes.c2p(4*fA, 0, 0), end=plot_axes.c2p(3*next_fB_value, 0, 0),color=RED)\n",
    "        \n",
    "        self.camera.frame.save_state()\n",
    "        \n",
    "        #self.play(Create(plot_axes), Create(plot_labels))\n",
    "        #self.wait()\n",
    "        #self.play(Create(bottom))\n",
    "        #self.wait()\n",
    "        #self.play(Create(top))\n",
    "        #self.wait()\n",
    "        \n",
    "        \n",
    "        self.add(plot_axes,plot_labels,bottom,top)\n",
    "        self.play(fB.animate.set_value(next_fB_value))\n",
    "        #self.wait()\n",
    "        self.play(self.camera.frame.animate.scale(0.5).move_to(plot_axes.c2p(4*fA,0,0)))\n",
    "        self.add(darrow.shift(UP))\n",
    "        self.wait()\n",
    "        #self.wait(3)\n",
    "        #self.play(Restore(self.camera.frame))\n",
    "        #self.wait()\n"
   ]
  },
  {
   "cell_type": "code",
   "execution_count": null,
   "id": "825286ee-16b9-48e5-9186-fa56a25b5baf",
   "metadata": {},
   "outputs": [],
   "source": []
  }
 ],
 "metadata": {
  "kernelspec": {
   "display_name": "Python 3 (ipykernel)",
   "language": "python",
   "name": "python3"
  },
  "language_info": {
   "codemirror_mode": {
    "name": "ipython",
    "version": 3
   },
   "file_extension": ".py",
   "mimetype": "text/x-python",
   "name": "python",
   "nbconvert_exporter": "python",
   "pygments_lexer": "ipython3",
   "version": "3.8.18"
  }
 },
 "nbformat": 4,
 "nbformat_minor": 5
}
