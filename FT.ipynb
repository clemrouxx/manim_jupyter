{
 "cells": [
  {
   "cell_type": "code",
   "execution_count": 1,
   "id": "807d3ece-f572-406b-8b5c-98d7552fcfc6",
   "metadata": {
    "tags": []
   },
   "outputs": [
    {
     "data": {
      "text/html": [
       "<pre style=\"white-space:pre;overflow-x:auto;line-height:normal;font-family:Menlo,'DejaVu Sans Mono',consolas,'Courier New',monospace\">Manim Community <span style=\"color: #008000; text-decoration-color: #008000\">v0.18.0</span>\n",
       "\n",
       "</pre>\n"
      ],
      "text/plain": [
       "Manim Community \u001b[32mv0.\u001b[0m\u001b[32m18.0\u001b[0m\n",
       "\n"
      ]
     },
     "metadata": {},
     "output_type": "display_data"
    }
   ],
   "source": [
    "from manim import *"
   ]
  },
  {
   "cell_type": "code",
   "execution_count": 22,
   "id": "534270f2-b790-4feb-9249-d6d82cdc90d7",
   "metadata": {
    "tags": []
   },
   "outputs": [
    {
     "name": "stderr",
     "output_type": "stream",
     "text": [
      "                                                                                             \r"
     ]
    },
    {
     "data": {
      "text/html": [
       "<video src=\"media/jupyter/PlotExample@2023-12-23@20-02-55.mp4\" controls autoplay loop style=\"max-width: 60%;\"  >\n",
       "      Your browser does not support the <code>video</code> element.\n",
       "    </video>"
      ],
      "text/plain": [
       "<IPython.core.display.Video object>"
      ]
     },
     "metadata": {},
     "output_type": "display_data"
    }
   ],
   "source": [
    "%%manim -ql -v WARNING PlotExample\n",
    "\n",
    "class PlotExample(Scene):\n",
    "    def construct(self):\n",
    "        plot_axes = Axes(\n",
    "            x_range=[0, 300, 5000],\n",
    "            y_range=[-1, 1, 1],\n",
    "            x_length=9,\n",
    "            y_length=5,\n",
    "            tips=False,\n",
    "        )\n",
    "\n",
    "        y_label = plot_axes.get_y_axis_label(Tex(\"Amplitude\"), edge=LEFT, direction=LEFT, buff=0.4).rotate(PI/2)\n",
    "        x_label = plot_axes.get_x_axis_label(Tex(\"$f$ (Hz)\"),edge=RIGHT,direction=RIGHT)\n",
    "        plot_labels = VGroup(x_label, y_label)\n",
    "\n",
    "        bottom = VGroup()\n",
    "        fA = 60\n",
    "        for i in range(1,5):\n",
    "            bottom += plot_axes.get_vertical_line(plot_axes.c2p(i*fA, -1/i, 0), color=BLUE,line_func=Line)\n",
    "        bottom += Tex(\"$f_A$\",color=BLUE).next_to(bottom[0],UP,buff=0.2).scale(0.8)\n",
    "            \n",
    "        top = VGroup()\n",
    "        fB = 80\n",
    "        for i in range(1,5):\n",
    "            top += plot_axes.get_vertical_line(plot_axes.c2p(i*fB, 1/i, 0), color=YELLOW,line_func=Line)\n",
    "        top += Tex(\"$f_B$\",color=YELLOW).next_to(top[0],DOWN,buff=0.2).scale(0.8)\n",
    "        \n",
    "        self.play(Create(plot_axes), Create(plot_labels))\n",
    "        self.wait()\n",
    "        self.play(Create(bottom))\n",
    "        self.wait()\n",
    "        self.play(Create(top))\n",
    "        self.wait(3)\n"
   ]
  },
  {
   "cell_type": "code",
   "execution_count": null,
   "id": "825286ee-16b9-48e5-9186-fa56a25b5baf",
   "metadata": {},
   "outputs": [],
   "source": []
  }
 ],
 "metadata": {
  "kernelspec": {
   "display_name": "Python 3 (ipykernel)",
   "language": "python",
   "name": "python3"
  },
  "language_info": {
   "codemirror_mode": {
    "name": "ipython",
    "version": 3
   },
   "file_extension": ".py",
   "mimetype": "text/x-python",
   "name": "python",
   "nbconvert_exporter": "python",
   "pygments_lexer": "ipython3",
   "version": "3.8.18"
  }
 },
 "nbformat": 4,
 "nbformat_minor": 5
}
